{
  "nbformat": 4,
  "nbformat_minor": 0,
  "metadata": {
    "colab": {
      "name": "Numbers_Logistic R_FeedForward.ipynb",
      "provenance": [],
      "authorship_tag": "ABX9TyMo1CoUU+40dGdsM9Qjsk+K",
      "include_colab_link": true
    },
    "kernelspec": {
      "name": "python3",
      "display_name": "Python 3"
    }
  },
  "cells": [
    {
      "cell_type": "markdown",
      "metadata": {
        "id": "view-in-github",
        "colab_type": "text"
      },
      "source": [
        "<a href=\"https://colab.research.google.com/github/vbanai/Linear_Logistic_Regression_Projects/blob/main/Numbers_Logistic_R_FeedForward.ipynb\" target=\"_parent\"><img src=\"https://colab.research.google.com/assets/colab-badge.svg\" alt=\"Open In Colab\"/></a>"
      ]
    },
    {
      "cell_type": "code",
      "metadata": {
        "id": "qcikyuQ0BLgO"
      },
      "source": [
        "import torch\n",
        "import torchvision\n",
        "import torch.nn as nn\n",
        "import matplotlib.pyplot as plt\n",
        "import torch.nn.functional as F\n",
        "import torchvision.transforms as transforms\n",
        "from torchvision.datasets import MNIST\n",
        "from torch.utils.data import random_split\n",
        "from torch.utils.data import DataLoader\n",
        "from google.colab import files\n",
        "from keras.datasets import mnist\n",
        "import numpy as np\n",
        "\n"
      ],
      "execution_count": null,
      "outputs": []
    },
    {
      "cell_type": "code",
      "metadata": {
        "id": "tAMOdwfHZOM5"
      },
      "source": [
        "\n",
        "# Hyperparmeters\n",
        "batch_size = 128\n",
        "learning_rate = 0.001\n",
        "\n",
        "# Other constants\n",
        "input_size = 28*28\n",
        "num_classes = 10\n",
        "\n",
        "\n",
        "# Download dataset\n",
        "dataset = MNIST(root='data/', train=True, transform=transforms.ToTensor(), download=True)\n",
        "\n",
        "# Training validation & test dataset\n",
        "train_ds, val_ds = random_split(dataset, [50000, 10000])\n",
        "test_ds = MNIST(root='data/', train=False, transform=transforms.ToTensor())\n",
        "\n",
        "# Dataloaders\n",
        "\n",
        "train_loader = DataLoader(train_ds, batch_size, shuffle=True, num_workers=2, pin_memory=True)\n",
        "val_loader = DataLoader(val_ds, batch_size*2, num_workers=2, pin_memory=True)\n",
        "test_loader = DataLoader(test_ds, batch_size*2, num_workers=2, pin_memory=True)\n",
        "\n"
      ],
      "execution_count": null,
      "outputs": []
    },
    {
      "cell_type": "code",
      "metadata": {
        "id": "yDIhPm_Qgp4G"
      },
      "source": [
        "def accuracy(outputs, labels):\n",
        "    _, preds = torch.max(outputs, dim=1)\n",
        "    return torch.tensor(torch.sum(preds == labels).item() / len(preds))\n",
        "\n",
        "\n",
        "def evaluate(model, val_loader):\n",
        "    outputs = [model.validation_step(batch) for batch in val_loader]\n",
        "    return model.validation_epoch_end(outputs)\n",
        "\n",
        "class MnistModel(nn.Module):\n",
        "    \"\"\"Feedfoward neural network with 1 hidden layer\"\"\"\n",
        "    def __init__(self, in_size, out_size):\n",
        "        super().__init__()\n",
        "        # hidden layer\n",
        "        self.linear1 = nn.Linear(in_size, 16)\n",
        "        # hidden layer 2\n",
        "        self.linear2 = nn.Linear(16, 32)\n",
        "        # output layer\n",
        "        self.linear3 = nn.Linear(32, out_size)\n",
        "        \n",
        "    def forward(self, xb):\n",
        "        # Flatten the image tensors\n",
        "        out = xb.view(xb.size(0), -1)\n",
        "        # Get intermediate outputs using hidden layer 1\n",
        "        out = self.linear1(out)\n",
        "        # Apply activation function\n",
        "        out = F.relu(out)\n",
        "        # Get intermediate outputs using hidden layer 2\n",
        "        out = self.linear2(out)\n",
        "        # Apply activation function\n",
        "        out = F.relu(out)\n",
        "        # Get predictions using output layer\n",
        "        out = self.linear3(out)\n",
        "        return out\n",
        "    \n",
        "    def training_step(self, batch):\n",
        "        images, labels = batch \n",
        "        out = self(images)                  # Generate predictions\n",
        "        loss = F.cross_entropy(out, labels) # Calculate loss\n",
        "        return loss\n",
        "    \n",
        "    def validation_step(self, batch):\n",
        "        images, labels = batch \n",
        "        out = self(images)                    # Generate predictions\n",
        "        loss = F.cross_entropy(out, labels)   # Calculate loss\n",
        "        acc = accuracy(out, labels)           # Calculate accuracy\n",
        "        return {'val_loss': loss, 'val_acc': acc}\n",
        "        \n",
        "    def validation_epoch_end(self, outputs):\n",
        "        batch_losses = [x['val_loss'] for x in outputs]\n",
        "        epoch_loss = torch.stack(batch_losses).mean()   # Combine losses\n",
        "        batch_accs = [x['val_acc'] for x in outputs]\n",
        "        epoch_acc = torch.stack(batch_accs).mean()      # Combine accuracies\n",
        "        return {'val_loss': epoch_loss.item(), 'val_acc': epoch_acc.item()}\n",
        "    \n",
        "    def epoch_end(self, epoch, result):\n",
        "        print(\"Epoch [{}], val_loss: {:.4f}, val_acc: {:.4f}\".format(epoch, result['val_loss'], result['val_acc']))"
      ],
      "execution_count": null,
      "outputs": []
    },
    {
      "cell_type": "code",
      "metadata": {
        "id": "MR4kWsForPSk"
      },
      "source": [
        "def get_default_device():\n",
        "    \"\"\"Pick GPU if available, else CPU\"\"\"\n",
        "    if torch.cuda.is_available():\n",
        "        return torch.device('cuda')\n",
        "    else:\n",
        "        return torch.device('cpu')\n",
        "\n",
        "device = get_default_device()\n"
      ],
      "execution_count": null,
      "outputs": []
    },
    {
      "cell_type": "code",
      "metadata": {
        "id": "FZp8qdT_rboL"
      },
      "source": [
        "def to_device(data, device):\n",
        "    \"\"\"Move tensor(s) to chosen device\"\"\"\n",
        "    if isinstance(data, (list,tuple)):\n",
        "        return [to_device(x, device) for x in data]\n",
        "    return data.to(device, non_blocking=True)\n",
        "\n",
        "class DeviceDataLoader():\n",
        "    \"\"\"Wrap a dataloader to move data to a device\"\"\"\n",
        "    def __init__(self, dl, device):\n",
        "        self.dl = dl\n",
        "        self.device = device\n",
        "        \n",
        "    def __iter__(self):\n",
        "        \"\"\"Yield a batch of data after moving it to device\"\"\"\n",
        "        for b in self.dl: \n",
        "            yield to_device(b, self.device)\n",
        "\n",
        "    def __len__(self):\n",
        "        \"\"\"Number of batches\"\"\"\n",
        "        return len(self.dl)\n",
        "\n",
        "\n",
        "train_loader = DeviceDataLoader(train_loader, device)\n",
        "val_loader = DeviceDataLoader(val_loader, device)\n",
        "test_loader = DeviceDataLoader(test_loader, device)"
      ],
      "execution_count": null,
      "outputs": []
    },
    {
      "cell_type": "code",
      "metadata": {
        "id": "Vg94J6kRsEmN"
      },
      "source": [
        "def evaluate(model, val_loader):\n",
        "    outputs = [model.validation_step(batch) for batch in val_loader]\n",
        "    return model.validation_epoch_end(outputs)\n",
        "\n",
        "def fit(epochs, lr, model, train_loader, val_loader, opt_func=torch.optim.SGD):\n",
        "    history = []\n",
        "    optimizer = opt_func(model.parameters(), lr)\n",
        "    for epoch in range(epochs):\n",
        "        # Training Phase \n",
        "        for batch in train_loader:\n",
        "            loss = model.training_step(batch)\n",
        "            loss.backward()\n",
        "            optimizer.step()\n",
        "            optimizer.zero_grad()\n",
        "        # Validation phase\n",
        "        result = evaluate(model, val_loader)\n",
        "        model.epoch_end(epoch, result)\n",
        "        history.append(result)\n",
        "    return history"
      ],
      "execution_count": null,
      "outputs": []
    },
    {
      "cell_type": "code",
      "metadata": {
        "id": "qDkC-GD-sLWk",
        "colab": {
          "base_uri": "https://localhost:8080/"
        },
        "outputId": "2e24c967-8249-4e8c-b639-447286a9c4c5"
      },
      "source": [
        "model = MnistModel(input_size, out_size=num_classes)\n",
        "to_device(model, device)\n",
        "\n",
        "history = fit(20, 0.05, model, train_loader, val_loader)"
      ],
      "execution_count": null,
      "outputs": [
        {
          "output_type": "stream",
          "text": [
            "Epoch [0], val_loss: 0.5320, val_acc: 0.8464\n",
            "Epoch [1], val_loss: 0.3817, val_acc: 0.8863\n",
            "Epoch [2], val_loss: 0.3177, val_acc: 0.9072\n",
            "Epoch [3], val_loss: 0.2824, val_acc: 0.9141\n",
            "Epoch [4], val_loss: 0.2541, val_acc: 0.9245\n",
            "Epoch [5], val_loss: 0.2406, val_acc: 0.9282\n",
            "Epoch [6], val_loss: 0.2337, val_acc: 0.9324\n",
            "Epoch [7], val_loss: 0.2195, val_acc: 0.9349\n",
            "Epoch [8], val_loss: 0.2096, val_acc: 0.9383\n",
            "Epoch [9], val_loss: 0.2008, val_acc: 0.9389\n",
            "Epoch [10], val_loss: 0.1897, val_acc: 0.9429\n",
            "Epoch [11], val_loss: 0.1828, val_acc: 0.9454\n",
            "Epoch [12], val_loss: 0.1797, val_acc: 0.9453\n",
            "Epoch [13], val_loss: 0.1837, val_acc: 0.9426\n",
            "Epoch [14], val_loss: 0.1762, val_acc: 0.9446\n",
            "Epoch [15], val_loss: 0.1735, val_acc: 0.9469\n",
            "Epoch [16], val_loss: 0.1688, val_acc: 0.9491\n",
            "Epoch [17], val_loss: 0.1679, val_acc: 0.9479\n",
            "Epoch [18], val_loss: 0.1660, val_acc: 0.9463\n",
            "Epoch [19], val_loss: 0.1704, val_acc: 0.9474\n"
          ],
          "name": "stdout"
        }
      ]
    },
    {
      "cell_type": "code",
      "metadata": {
        "id": "mz8782qi1GO9",
        "colab": {
          "base_uri": "https://localhost:8080/",
          "height": 298
        },
        "outputId": "2b0b2336-a46c-45dd-ac63-bd3c4e6a71a7"
      },
      "source": [
        "#Graphical presentation of the result\n",
        "\n",
        "accuracy=[i['val_acc'] for i in history]\n",
        "x=[]\n",
        "for i in range(len(history)):\n",
        "  x.append(i+1)\n",
        "\n",
        "\n",
        "plt.plot(x, accuracy)\n",
        "plt.xlabel('epoch')\n",
        "plt.ylabel('accuracy')"
      ],
      "execution_count": null,
      "outputs": [
        {
          "output_type": "execute_result",
          "data": {
            "text/plain": [
              "Text(0, 0.5, 'accuracy')"
            ]
          },
          "metadata": {
            "tags": []
          },
          "execution_count": 8
        },
        {
          "output_type": "display_data",
          "data": {
            "image/png": "[encoded data removed]",
            "text/plain": [
              "<Figure size 432x288 with 1 Axes>"
            ]
          },
          "metadata": {
            "tags": [],
            "needs_background": "light"
          }
        }
      ]
    },
    {
      "cell_type": "code",
      "metadata": {
        "id": "NCptIN1Eee0i",
        "colab": {
          "base_uri": "https://localhost:8080/"
        },
        "outputId": "8a0d8c5c-555a-4a2c-a2f8-0bc73c3f783c"
      },
      "source": [
        "#Accuracy of the testset\n",
        "\n",
        "f=[]\n",
        "\n",
        "for img, label in test_loader:\n",
        "  outputs = model(img)\n",
        "  _, preds  = torch.max(outputs, dim=1)\n",
        "  t=torch.tensor(torch.sum(preds == label).item() / len(preds))\n",
        "  f.append(t)\n",
        "\n",
        "\n",
        "Sum=sum(f)\n",
        "print(Sum/len(f))"
      ],
      "execution_count": null,
      "outputs": [
        {
          "output_type": "stream",
          "text": [
            "tensor(0.9517)\n"
          ],
          "name": "stdout"
        }
      ]
    },
    {
      "cell_type": "code",
      "metadata": {
        "id": "ert9-tIa13J3"
      },
      "source": [
        "torch.save(model.state_dict(), 'mnst.logistic.pth')"
      ],
      "execution_count": null,
      "outputs": []
    },
    {
      "cell_type": "code",
      "metadata": {
        "id": "chuo9kQF1841",
        "colab": {
          "base_uri": "https://localhost:8080/"
        },
        "outputId": "615216df-819b-4df5-d0a3-36903efc0951"
      },
      "source": [
        "#Trying out the saved model\n",
        "\n",
        "model2=MnistModel(input_size, out_size=num_classes)\n",
        "model2.load_state_dict(torch.load('mnst.logistic.pth'))\n",
        "model2.state_dict\n",
        "\n",
        "\n",
        "\n",
        "\n",
        "f=[]\n",
        "\n",
        "for img, label in test_ds:\n",
        "  outputs = model2(img)\n",
        "  _, preds  = torch.max(outputs, dim=1)\n",
        "  t=torch.tensor(torch.sum(preds == label).item() / len(preds))\n",
        "  f.append(t)\n",
        "\n",
        "\n",
        "Sum=sum(f)\n",
        "print(Sum/len(f))\n",
        "\n",
        "\n"
      ],
      "execution_count": null,
      "outputs": [
        {
          "output_type": "stream",
          "text": [
            "tensor(0.9518)\n"
          ],
          "name": "stdout"
        }
      ]
    },
    {
      "cell_type": "code",
      "metadata": {
        "id": "l6of5u1I4A6_"
      },
      "source": [
        "# with some individual images:\n",
        "\n",
        "def predict_image(img, model2):\n",
        "    xb = img.unsqueeze(0)\n",
        "    yb = model(xb)\n",
        "    print(yb)\n",
        "    _, preds  = torch.max(yb, dim=1)\n",
        "    return preds[0].item()\n",
        "\n",
        "img, label = test_ds[46]\n",
        "plt.imshow(img[0], cmap='gray')\n",
        "print('Label:', label, ', Predicted:', predict_image(img, model2))\n",
        "\n",
        "print(img[0])\n",
        "\n",
        "\n"
      ],
      "execution_count": null,
      "outputs": []
    },
    {
      "cell_type": "code",
      "metadata": {
        "id": "kpRyCEVGlYvP"
      },
      "source": [
        "\n",
        "from IPython.display import display, Javascript, Image\n",
        "import cv2\n",
        "from google.colab.output import eval_js\n",
        "from base64 import b64decode, b64encode\n",
        "import cv2\n",
        "import PIL\n",
        "import io\n",
        "import html\n",
        "import time\n",
        "\n",
        "\n",
        "\n",
        "# function to convert the JavaScript object into an OpenCV image\n",
        "def js_to_image(js_reply):\n",
        "  \"\"\"\n",
        "  Params:\n",
        "          js_reply: JavaScript object containing image from webcam\n",
        "  Returns:\n",
        "          img: OpenCV BGR image\n",
        "  \"\"\"\n",
        "  # decode base64 image\n",
        "  image_bytes = b64decode(js_reply.split(',')[1])\n",
        "  # convert bytes to numpy array\n",
        "  jpg_as_np = np.frombuffer(image_bytes, dtype=np.uint8)\n",
        "  # decode numpy array into OpenCV BGR image\n",
        "  img = cv2.imdecode(jpg_as_np, flags=1)\n",
        "\n",
        "  return img"
      ],
      "execution_count": null,
      "outputs": []
    },
    {
      "cell_type": "code",
      "metadata": {
        "id": "PDC4n4IDlk41"
      },
      "source": [
        "def take_photo(filename='photo.jpg', quality=0.8):\n",
        "  js = Javascript('''\n",
        "    async function takePhoto(quality) {\n",
        "      const div = document.createElement('div');\n",
        "      const capture = document.createElement('button');\n",
        "      capture.textContent = 'Capture';\n",
        "      div.appendChild(capture);\n",
        "\n",
        "      const video = document.createElement('video');\n",
        "      video.style.display = 'block';\n",
        "      const stream = await navigator.mediaDevices.getUserMedia({video: true});\n",
        "\n",
        "      document.body.appendChild(div);\n",
        "      div.appendChild(video);\n",
        "      video.srcObject = stream;\n",
        "      await video.play();\n",
        "\n",
        "      // Resize the output to fit the video element.\n",
        "      google.colab.output.setIframeHeight(document.documentElement.scrollHeight, true);\n",
        "\n",
        "      // Wait for Capture to be clicked.\n",
        "      await new Promise((resolve) => capture.onclick = resolve);\n",
        "\n",
        "      const canvas = document.createElement('canvas');\n",
        "      canvas.width = video.videoWidth;\n",
        "      canvas.height = video.videoHeight;\n",
        "      canvas.getContext('2d').drawImage(video, 0, 0);\n",
        "      stream.getVideoTracks()[0].stop();\n",
        "      div.remove();\n",
        "      return canvas.toDataURL('image/jpeg', quality);\n",
        "    }\n",
        "    ''')\n",
        "  display(js)\n",
        "\n",
        "  # get photo data\n",
        "  data = eval_js('takePhoto({})'.format(quality))\n",
        "  # get OpenCV format image\n",
        "  img = js_to_image(data) \n",
        "  # save image\n",
        "  cv2.imwrite(filename, img)\n",
        "\n",
        "  return img"
      ],
      "execution_count": null,
      "outputs": []
    },
    {
      "cell_type": "code",
      "metadata": {
        "colab": {
          "base_uri": "https://localhost:8080/",
          "height": 17
        },
        "id": "PeZ3hzy0lpuz",
        "outputId": "7ff72e11-123e-46c3-aef4-9d276b63523d"
      },
      "source": [
        "x=take_photo()"
      ],
      "execution_count": null,
      "outputs": [
        {
          "output_type": "display_data",
          "data": {
            "application/javascript": [
              "\n",
              "    async function takePhoto(quality) {\n",
              "      const div = document.createElement('div');\n",
              "      const capture = document.createElement('button');\n",
              "      capture.textContent = 'Capture';\n",
              "      div.appendChild(capture);\n",
              "\n",
              "      const video = document.createElement('video');\n",
              "      video.style.display = 'block';\n",
              "      const stream = await navigator.mediaDevices.getUserMedia({video: true});\n",
              "\n",
              "      document.body.appendChild(div);\n",
              "      div.appendChild(video);\n",
              "      video.srcObject = stream;\n",
              "      await video.play();\n",
              "\n",
              "      // Resize the output to fit the video element.\n",
              "      google.colab.output.setIframeHeight(document.documentElement.scrollHeight, true);\n",
              "\n",
              "      // Wait for Capture to be clicked.\n",
              "      await new Promise((resolve) => capture.onclick = resolve);\n",
              "\n",
              "      const canvas = document.createElement('canvas');\n",
              "      canvas.width = video.videoWidth;\n",
              "      canvas.height = video.videoHeight;\n",
              "      canvas.getContext('2d').drawImage(video, 0, 0);\n",
              "      stream.getVideoTracks()[0].stop();\n",
              "      div.remove();\n",
              "      return canvas.toDataURL('image/jpeg', quality);\n",
              "    }\n",
              "    "
            ],
            "text/plain": [
              "<IPython.core.display.Javascript object>"
            ]
          },
          "metadata": {
            "tags": []
          }
        }
      ]
    },
    {
      "cell_type": "code",
      "metadata": {
        "id": "IJDJ8lF9rjYP"
      },
      "source": [
        "img_array_test=cv2.imread(\"/content/photo.jpg\")\n",
        "new_img_array_test=cv2.resize(img_array_test,(64,64))\n",
        "new_img_array_test2=new_img_array_test/255"
      ],
      "execution_count": null,
      "outputs": []
    },
    {
      "cell_type": "code",
      "metadata": {
        "colab": {
          "base_uri": "https://localhost:8080/"
        },
        "id": "yfyLeGtbr29M",
        "outputId": "4bdacbf6-191f-4296-c63a-f91088bab0b9"
      },
      "source": [
        "inverse=1 - new_img_array_test2\n",
        "inverse_test = np.array(inverse)\n",
        "inverse_test_float=inverse_test.astype('float32')\n",
        "inverse_test_tensor=torch.from_numpy(inverse_test_float)\n",
        "\n",
        "print(predict_image(img, model2))\n",
        "\n"
      ],
      "execution_count": null,
      "outputs": [
        {
          "output_type": "stream",
          "text": [
            "tensor([[-6.8274,  6.4903, -0.3940,  3.3753, -1.7823, -1.7014, -4.1278,  1.2011,\n",
            "          1.6189, -1.3595]], grad_fn=<AddmmBackward>)\n",
            "1\n"
          ],
          "name": "stdout"
        }
      ]
    },
    {
      "cell_type": "code",
      "metadata": {
        "id": "29ToimqnnuL9"
      },
      "source": [
        "\n",
        "import tensorflow as tf\n",
        "import keras\n",
        "\n",
        "\n",
        "plt.imshow(imgResized, cmap='gray')\n",
        "Gray=cv2.cvtColor(x, cv2.COLOR_BGR2GRAY)\n",
        "\n",
        "Gray1=cv2.resize(Gray, (28, 28))\n",
        "\n",
        "Gray2=torch.tensor(Gray1)\n",
        "Gray3 = Gray2.type(torch.float32)\n",
        "Gray4 = Gray3.unsqueeze(0)\n",
        "Gray5=tf.keras.utils.normalize(Gray4, axis=1)\n",
        "\n",
        "print(Gray5.shape)\n",
        "print(Gray5.dtype)\n",
        "print(Gray5)\n",
        "\n",
        "print('Predicted:', predict_image(Gray5, model2))\n",
        "\n",
        "\n"
      ],
      "execution_count": null,
      "outputs": []
    },
    {
      "cell_type": "code",
      "metadata": {
        "id": "_62FW3xYxwCu"
      },
      "source": [
        "uploaded=files.upload()\n",
        "\n",
        "for fn in uploaded.keys():\n",
        "  print('User uploaded file \"{name}\" with length {length} bytes'.format(name=fn, length=len(uploaded[fn])))\n",
        "\n"
      ],
      "execution_count": null,
      "outputs": []
    },
    {
      "cell_type": "code",
      "metadata": {
        "id": "I15HfB7pyYRq"
      },
      "source": [
        "\n",
        "import tensorflow as tf\n",
        "import keras\n",
        "\n",
        "y=cv2.imread('3 (11).jpg')\n",
        "#picture=resize(y, (28,28), mode='constanst', antialiasing=True)\n",
        "y1=cv2.resize(y, (28, 28))\n",
        "y2=cv2.cvtColor(y1, cv2.COLOR_BGR2GRAY)\n",
        "y3=torch.tensor(y2)\n",
        "y4 = y3.type(torch.float32)\n",
        "y5 = y4.unsqueeze(0)\n",
        "y6=tf.keras.utils.normalize(y5, axis=1)\n",
        "print(y6.shape)\n",
        "print(y6.dtype)\n",
        "print(y6)\n",
        "\n",
        "\n",
        "#print('Predicted:', predict_image(y6, model2))"
      ],
      "execution_count": null,
      "outputs": []
    },
    {
      "cell_type": "code",
      "metadata": {
        "colab": {
          "base_uri": "https://localhost:8080/"
        },
        "id": "iSdpjSJwwFxk",
        "outputId": "1ca14372-6012-42d9-ff2a-aacdf0a07abe"
      },
      "source": [
        "print('Predicted:', predict_image(y6, model2))"
      ],
      "execution_count": null,
      "outputs": [
        {
          "output_type": "stream",
          "text": [
            "tensor([[-1.5928,  0.6344,  1.2368,  6.0241, -1.6542,  1.7492, -3.2911, -2.0907,\n",
            "          2.0241, -1.4299]], grad_fn=<AddmmBackward>)\n",
            "Predicted: 3\n"
          ],
          "name": "stdout"
        }
      ]
    }
  ]
}